{
 "cells": [
  {
   "cell_type": "code",
   "execution_count": 1,
   "id": "8e37fc6d",
   "metadata": {},
   "outputs": [
    {
     "name": "stdout",
     "output_type": "stream",
     "text": [
      "       mileage        make   model               fuel    gear       offerType  \\\n",
      "0       235000         BMW     316             Diesel  Manual            Used   \n",
      "1        92800  Volkswagen    Golf           Gasoline  Manual            Used   \n",
      "2       149300        SEAT    Exeo           Gasoline  Manual            Used   \n",
      "3        96200     Renault  Megane           Gasoline  Manual            Used   \n",
      "4       156000     Peugeot     308           Gasoline  Manual            Used   \n",
      "...        ...         ...     ...                ...     ...             ...   \n",
      "46400       99        Fiat     500  Electric/Gasoline  Manual  Pre-registered   \n",
      "46401       99        Fiat     500  Electric/Gasoline  Manual  Pre-registered   \n",
      "46402       99        Fiat     500  Electric/Gasoline  Manual  Pre-registered   \n",
      "46403       99        Fiat     500  Electric/Gasoline  Manual  Pre-registered   \n",
      "46404       99        Fiat     500  Electric/Gasoline  Manual  Pre-registered   \n",
      "\n",
      "       price     hp  year  \n",
      "0       6800  116.0  2011  \n",
      "1       6877  122.0  2011  \n",
      "2       6900  160.0  2011  \n",
      "3       6950  110.0  2011  \n",
      "4       6950  156.0  2011  \n",
      "...      ...    ...   ...  \n",
      "46400  12990   71.0  2021  \n",
      "46401  12990   71.0  2021  \n",
      "46402  12990   71.0  2021  \n",
      "46403  12990   71.0  2021  \n",
      "46404  12990   71.0  2021  \n",
      "\n",
      "[46405 rows x 9 columns]\n"
     ]
    }
   ],
   "source": [
    "import pandas as pd\n",
    "\n",
    "data = pd.read_csv(\"../data/raw/autoscout24-germany-dataset.csv\")\n",
    "\n",
    "print(data)"
   ]
  },
  {
   "cell_type": "code",
   "execution_count": null,
   "id": "2732e4e9",
   "metadata": {},
   "outputs": [],
   "source": []
  }
 ],
 "metadata": {
  "kernelspec": {
   "display_name": "Python 3",
   "language": "python",
   "name": "python3"
  },
  "language_info": {
   "codemirror_mode": {
    "name": "ipython",
    "version": 3
   },
   "file_extension": ".py",
   "mimetype": "text/x-python",
   "name": "python",
   "nbconvert_exporter": "python",
   "pygments_lexer": "ipython3",
   "version": "3.8.5"
  }
 },
 "nbformat": 4,
 "nbformat_minor": 5
}
